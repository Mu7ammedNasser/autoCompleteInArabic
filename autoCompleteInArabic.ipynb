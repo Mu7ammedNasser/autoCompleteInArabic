{
 "cells": [
  {
   "cell_type": "code",
   "execution_count": 1,
   "id": "1635702a",
   "metadata": {},
   "outputs": [
    {
     "name": "stderr",
     "output_type": "stream",
     "text": [
      "c:\\Users\\Ahmed\\AppData\\Local\\Programs\\Python\\Python311\\Lib\\site-packages\\tqdm\\auto.py:21: TqdmWarning: IProgress not found. Please update jupyter and ipywidgets. See https://ipywidgets.readthedocs.io/en/stable/user_install.html\n",
      "  from .autonotebook import tqdm as notebook_tqdm\n"
     ]
    }
   ],
   "source": [
    "from datasets import load_dataset\n",
    "dataset = load_dataset(\"M-A-D/Mixed-Arabic-Dataset-Main\")\n",
    "# Normalize Arabic text (remove diacritics, etc.) using a library like arabic-reshaper"
   ]
  },
  {
   "cell_type": "code",
   "execution_count": 2,
   "id": "c5afb718",
   "metadata": {},
   "outputs": [
    {
     "name": "stdout",
     "output_type": "stream",
     "text": [
      "2.7.0+cpu\n",
      "False\n"
     ]
    }
   ],
   "source": [
    "import torch\n",
    "print(torch.__version__)\n",
    "print(torch.cuda.is_available())"
   ]
  },
  {
   "cell_type": "code",
   "execution_count": 3,
   "id": "6255f4be",
   "metadata": {},
   "outputs": [
    {
     "name": "stdout",
     "output_type": "stream",
     "text": [
      "True\n"
     ]
    }
   ],
   "source": [
    "from transformers.utils import is_torch_available\n",
    "print(is_torch_available())\n"
   ]
  },
  {
   "cell_type": "code",
   "execution_count": 4,
   "id": "2cc14455",
   "metadata": {},
   "outputs": [],
   "source": [
    "import tkinter as tk\n",
    "from tkinter import scrolledtext\n",
    "from transformers import AutoTokenizer, AutoModelForCausalLM\n",
    "import re\n",
    "import torch\n",
    "import os"
   ]
  },
  {
   "cell_type": "code",
   "execution_count": 5,
   "id": "38aae085",
   "metadata": {},
   "outputs": [],
   "source": [
    "\n",
    "# Suppress huggingface_hub symlink warning\n",
    "os.environ[\"HF_HUB_DISABLE_SYMLINKS_WARNING\"] = \"1\"\n",
    "\n",
    "# Load tokenizer and model\n",
    "tokenizer = AutoTokenizer.from_pretrained(\"aubmindlab/aragpt2-base\")\n",
    "model = AutoModelForCausalLM.from_pretrained(\"aubmindlab/aragpt2-base\")"
   ]
  },
  {
   "cell_type": "code",
   "execution_count": 6,
   "id": "995c2e2a",
   "metadata": {},
   "outputs": [],
   "source": [
    "\n",
    "\n",
    "# Normalize Arabic text\n",
    "def normalize_arabic(text):\n",
    "    text = re.sub(r'[ًٌٍَُِّْ]', '', text)  # Remove diacritics\n",
    "    text = re.sub(r'ـ', '', text)  # Remove tatweel\n",
    "    text = re.sub(r'[إأآ]', 'ا', text)  # Normalize alif variants\n",
    "    return text\n",
    "\n",
    "# Autocomplete function: Predict top 3 next words\n",
    "def autocomplete():\n",
    "    prefix = input_field.get().strip()\n",
    "    if not prefix:\n",
    "        for btn in suggestion_buttons:\n",
    "            btn.config(text=\"\", command=lambda: None, state=\"disabled\")\n",
    "        return\n",
    "    \n",
    "    # Normalize input\n",
    "    prefix = normalize_arabic(prefix)\n",
    "    \n",
    "    # Tokenize input\n",
    "    inputs = tokenizer(prefix, return_tensors=\"pt\")\n",
    "    with torch.no_grad():\n",
    "        outputs = model(**inputs)\n",
    "        logits = outputs.logits[:, -1, :]  # Logits for the next token\n",
    "        probs = torch.softmax(logits, dim=-1)\n",
    "        top_k_probs, top_k_indices = torch.topk(probs, k=3)  # Top 3 probabilities\n",
    "    \n",
    "    # Decode top 3 tokens to words\n",
    "    top_words = []\n",
    "    for idx in top_k_indices[0]:\n",
    "        token = tokenizer.decode([idx], skip_special_tokens=True).strip()\n",
    "        if token:  # Ensure non-empty\n",
    "            top_words.append(token)\n",
    "    \n",
    "    # Pad with empty strings if fewer than 3 words\n",
    "    top_words = top_words + [\"\"] * (3 - len(top_words))\n",
    "    \n",
    "    # Update suggestion buttons\n",
    "    for i, (btn, word) in enumerate(zip(suggestion_buttons, top_words)):\n",
    "        if word:\n",
    "            btn.config(text=word, state=\"normal\", command=lambda w=word: append_word(w))\n",
    "        else:\n",
    "            btn.config(text=\"\", command=lambda: None, state=\"disabled\")\n",
    "\n",
    "# Append selected word to input field\n",
    "def append_word(word):\n",
    "    current_text = input_field.get().strip()\n",
    "    new_text = f\"{current_text} {word}\" if current_text else word\n",
    "    input_field.delete(0, tk.END)\n",
    "    input_field.insert(0, new_text)\n",
    "    # Clear suggestion buttons\n",
    "    for btn in suggestion_buttons:\n",
    "        btn.config(text=\"\", command=lambda: None, state=\"disabled\")\n",
    "\n",
    "# Clear input field\n",
    "def clear_input():\n",
    "    input_field.delete(0, tk.END)\n",
    "    for btn in suggestion_buttons:\n",
    "        btn.config(text=\"\", command=lambda: None, state=\"disabled\")\n",
    "\n",
    "# Create Tkinter GUI\n",
    "root = tk.Tk()\n",
    "root.title(\"Arabic Autocomplete\")\n",
    "root.geometry(\"600x400\")\n",
    "\n",
    "# Input label and field\n",
    "tk.Label(root, text=\"أدخل النص العربي\", font=(\"Arial\", 12)).pack(pady=10)\n",
    "input_field = tk.Entry(root, width=50, font=(\"Arial\", 12), justify=\"right\")\n",
    "input_field.pack(pady=5)\n",
    "\n",
    "# Buttons frame\n",
    "button_frame = tk.Frame(root)\n",
    "button_frame.pack(pady=10)\n",
    "tk.Button(button_frame, text=\"إكمال النص\", command=autocomplete, font=(\"Arial\", 12)).pack(side=tk.LEFT, padx=5)\n",
    "tk.Button(button_frame, text=\"مسح\", command=clear_input, font=(\"Arial\", 12)).pack(side=tk.LEFT, padx=5)\n",
    "\n",
    "# Suggestion buttons\n",
    "suggestion_frame = tk.Frame(root)\n",
    "suggestion_frame.pack(pady=10)\n",
    "suggestion_buttons = []\n",
    "for i in range(3):\n",
    "    btn = tk.Button(suggestion_frame, text=\"\", font=(\"Arial\", 12), width=15, state=\"disabled\")\n",
    "    btn.pack(side=tk.LEFT, padx=5)\n",
    "    suggestion_buttons.append(btn)\n",
    "\n",
    "# Ensure Arabic text displays correctly\n",
    "root.option_add(\"*Font\", \"Arial 12\")\n",
    "root.option_add(\"*Entry*justify\", \"right\")\n",
    "\n",
    "# Run the GUI\n",
    "root.mainloop()"
   ]
  }
 ],
 "metadata": {
  "kernelspec": {
   "display_name": "Python 3",
   "language": "python",
   "name": "python3"
  },
  "language_info": {
   "codemirror_mode": {
    "name": "ipython",
    "version": 3
   },
   "file_extension": ".py",
   "mimetype": "text/x-python",
   "name": "python",
   "nbconvert_exporter": "python",
   "pygments_lexer": "ipython3",
   "version": "3.11.0"
  }
 },
 "nbformat": 4,
 "nbformat_minor": 5
}
